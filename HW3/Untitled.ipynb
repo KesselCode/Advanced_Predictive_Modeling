{
 "cells": [
  {
   "cell_type": "code",
   "execution_count": 9,
   "metadata": {
    "collapsed": false
   },
   "outputs": [
    {
     "name": "stdout",
     "output_type": "stream",
     "text": [
      "Event display alternatives\t1\n",
      "Year 2012\t1\n",
      "Event display alternatives\t1\n",
      "Year 2012\t1\n",
      "Event visit market report\t1\n",
      "Year 2012\t1\n"
     ]
    }
   ],
   "source": [
    "#!/usr/bin/python\n",
    "\n",
    "#import sys\n",
    "#INPUT = sys.stdin\n",
    "\n",
    "\n",
    "def read_input(file):\n",
    "    for line in file:\n",
    "        yield line.strip().split('\\t')\n",
    "\n",
    "def main():\n",
    "    data = read_input(INPUT)\n",
    "    for log_entry in data:\n",
    "        print 'Event {}\\t{}'.format(log_entry[1],1)\n",
    "        print 'Year {}\\t{}'.format(log_entry[5],1)\n",
    "\n",
    "if __name__ == \"__main__\":\n",
    "    main()"
   ]
  },
  {
   "cell_type": "code",
   "execution_count": 18,
   "metadata": {
    "collapsed": false
   },
   "outputs": [
    {
     "name": "stdout",
     "output_type": "stream",
     "text": [
      "553320448\tdisplay alternatives\t2016-09-20 00:18:51.000000\t1N6AD0ERXCC460850\tUsed\t2012\tNissan\tFrontier\t0.0000\t33143\n",
      "\n",
      "553320372\tdisplay alternatives\t2016-09-20 08:41:56.000000\t1N6AD0ERXCC460850\tUsed\t2012\tNissan\tFrontier\t0.0000\t33143\n",
      "\n",
      "553320372\tvisit market report\t2016-09-20 08:41:57.000000\t1N6AD0ERXCC460850\tUsed\t2012\tNissan\tFrontier\t0.0000\t33143\n",
      "\n"
     ]
    }
   ],
   "source": [
    "for line in INPUT:\n",
    "    print line"
   ]
  },
  {
   "cell_type": "code",
   "execution_count": 15,
   "metadata": {
    "collapsed": false
   },
   "outputs": [
    {
     "name": "stdout",
     "output_type": "stream",
     "text": [
      "553320448\tdisplay alternatives\t2016-09-20 00:18:51.000000\t1N6AD0ERXCC460850\tUsed\t2012\tNissan\tFrontier\t0.0000\t33143\n",
      "553320372\tdisplay alternatives\t2016-09-20 08:41:56.000000\t1N6AD0ERXCC460850\tUsed\t2012\tNissan\tFrontier\t0.0000\t33143\n",
      "553320372\tvisit market report\t2016-09-20 08:41:57.000000\t1N6AD0ERXCC460850\tUsed\t2012\tNissan\tFrontier\t0.0000\t33143\n"
     ]
    }
   ],
   "source": [
    "for line in INPUT:\n",
    "    print line.strip()"
   ]
  },
  {
   "cell_type": "code",
   "execution_count": 17,
   "metadata": {
    "collapsed": true
   },
   "outputs": [],
   "source": [
    "INPUT = open(\"C:\\Users\\Sean\\Downloads\\Hadoop_Assignment_4_export\\dataSet4Tiny.tsv\",\"r\")"
   ]
  }
 ],
 "metadata": {
  "kernelspec": {
   "display_name": "Python 2",
   "language": "python",
   "name": "python2"
  },
  "language_info": {
   "codemirror_mode": {
    "name": "ipython",
    "version": 2
   },
   "file_extension": ".py",
   "mimetype": "text/x-python",
   "name": "python",
   "nbconvert_exporter": "python",
   "pygments_lexer": "ipython2",
   "version": "2.7.12"
  }
 },
 "nbformat": 4,
 "nbformat_minor": 0
}
