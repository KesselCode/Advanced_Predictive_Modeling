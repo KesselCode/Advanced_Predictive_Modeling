{
 "cells": [
  {
   "cell_type": "code",
   "execution_count": 1,
   "metadata": {
    "collapsed": false
   },
   "outputs": [
    {
     "ename": "NameError",
     "evalue": "name 'pd' is not defined",
     "output_type": "error",
     "traceback": [
      "\u001b[1;31m---------------------------------------------------------------------------\u001b[0m",
      "\u001b[1;31mNameError\u001b[0m                                 Traceback (most recent call last)",
      "\u001b[1;32m<ipython-input-1-fd4513235fba>\u001b[0m in \u001b[0;36m<module>\u001b[1;34m()\u001b[0m\n\u001b[1;32m----> 1\u001b[1;33m \u001b[0mmse_alpha_df\u001b[0m \u001b[1;33m=\u001b[0m \u001b[0mpd\u001b[0m\u001b[1;33m.\u001b[0m\u001b[0mDataFrame\u001b[0m\u001b[1;33m(\u001b[0m\u001b[1;33m[\u001b[0m\u001b[0malphas\u001b[0m\u001b[1;33m,\u001b[0m\u001b[0mMSEs\u001b[0m\u001b[1;33m]\u001b[0m\u001b[1;33m)\u001b[0m\u001b[1;33m\u001b[0m\u001b[0m\n\u001b[0m\u001b[0;32m      2\u001b[0m \u001b[0mmse_alpha_df\u001b[0m \u001b[1;33m=\u001b[0m \u001b[0mmse_alpha_df\u001b[0m\u001b[1;33m.\u001b[0m\u001b[0mT\u001b[0m\u001b[1;33m\u001b[0m\u001b[0m\n\u001b[0;32m      3\u001b[0m \u001b[0mmse_alpha_df\u001b[0m\u001b[1;33m.\u001b[0m\u001b[0mcolumns\u001b[0m \u001b[1;33m=\u001b[0m \u001b[1;33m[\u001b[0m\u001b[1;34m\"Alphas\"\u001b[0m\u001b[1;33m,\u001b[0m\u001b[1;34m\"MSEs\"\u001b[0m\u001b[1;33m]\u001b[0m\u001b[1;33m\u001b[0m\u001b[0m\n\u001b[0;32m      4\u001b[0m \u001b[0mmse_alpha_df\u001b[0m\u001b[1;33m.\u001b[0m\u001b[0mplot\u001b[0m\u001b[1;33m(\u001b[0m\u001b[0mx\u001b[0m\u001b[1;33m=\u001b[0m\u001b[1;34m\"Alphas\"\u001b[0m\u001b[1;33m,\u001b[0m\u001b[0my\u001b[0m\u001b[1;33m=\u001b[0m\u001b[1;34m\"MSEs\"\u001b[0m\u001b[1;33m,\u001b[0m \u001b[0mtitle\u001b[0m \u001b[1;33m=\u001b[0m \u001b[1;34m\"Out of Sample MSE vs Alpha\"\u001b[0m\u001b[1;33m)\u001b[0m\u001b[1;33m\u001b[0m\u001b[0m\n\u001b[0;32m      5\u001b[0m \u001b[0mxlabel\u001b[0m\u001b[1;33m(\u001b[0m\u001b[1;34m'Alpha'\u001b[0m\u001b[1;33m)\u001b[0m\u001b[1;33m\u001b[0m\u001b[0m\n",
      "\u001b[1;31mNameError\u001b[0m: name 'pd' is not defined"
     ]
    }
   ],
   "source": [
    "mse_alpha_df = pd.DataFrame([alphas,MSEs])\n",
    "mse_alpha_df = mse_alpha_df.T\n",
    "mse_alpha_df.columns = [\"Alphas\",\"MSEs\"]\n",
    "mse_alpha_df.plot(x=\"Alphas\",y=\"MSEs\", title = \"Out of Sample MSE vs Alpha\")\n",
    "xlabel('Alpha')\n",
    "ylabel('Out of Sample MSE')\n",
    "plt.show()\n",
    "\n",
    "mse_alpha_df[mse_alpha_df[\"Alphas\"]<2].plot(x=\"Alphas\",y=\"MSEs\", title = \"Out of Sample MSE vs Alpha, alpha<2\")\n",
    "xlabel('Alpha')\n",
    "ylabel('Out of Sample MSE')\n",
    "plt.show()\n",
    "\n",
    "mse_alpha_df[mse_alpha_df[\"Alphas\"]<0.5].plot(x=\"Alphas\",y=\"MSEs\", title = \"Out of Sample MSE vs Alpha, alpha<0.5\")\n",
    "xlabel('Alpha')\n",
    "ylabel('Out of Sample MSE')\n",
    "plt.show()\n",
    "\n",
    "mse_alpha_df[mse_alpha_df[\"Alphas\"]<0.025].plot(x=\"Alphas\",y=\"MSEs\", title = \"Out of Sample MSE vs Alpha, alpha<0.025\")\n",
    "xlabel('Alpha')\n",
    "ylabel('Out of Sample MSE')\n",
    "plt.show()\n",
    "\n",
    "mse_alpha_df[mse_alpha_df[\"Alphas\"]<0.0025].plot(x=\"Alphas\",y=\"MSEs\", title = \"Out of Sample MSE vs Alpha, alpha<0.0025\")\n",
    "xlabel('Alpha')\n",
    "ylabel('Out of Sample MSE')\n",
    "plt.show()\n",
    "\n",
    "\n",
    "\n",
    "lasso = linear_model.Lasso()\n",
    "lasso.alpha = 0.00075\n",
    "lasso.fit(X_train, y_train)\n",
    "lasso_coefs.loc[alpha] = lasso.coef_\n",
    "lasso_y_test_pred = lasso.predict(X_test)\n",
    "print \"With an alpha of 0.00075, the lasso model returns an out of sample MSE of \", sum(((np.exp(y_test) - np.exp(lasso_y_test_pred))**2)/float(len(y_test)))\n",
    "\n"
   ]
  }
 ],
 "metadata": {
  "kernelspec": {
   "display_name": "Python 2",
   "language": "python",
   "name": "python2"
  },
  "language_info": {
   "codemirror_mode": {
    "name": "ipython",
    "version": 2
   },
   "file_extension": ".py",
   "mimetype": "text/x-python",
   "name": "python",
   "nbconvert_exporter": "python",
   "pygments_lexer": "ipython2",
   "version": "2.7.12"
  }
 },
 "nbformat": 4,
 "nbformat_minor": 0
}
